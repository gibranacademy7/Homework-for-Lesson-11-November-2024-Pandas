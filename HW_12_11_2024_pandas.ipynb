{
 "cells": [
  {
   "cell_type": "markdown",
   "id": "455bd68e-f014-459c-b3e0-1d5d56d882d9",
   "metadata": {},
   "source": [
    "<div style=\"background-color: #e0f7e0; padding: 15px; border-radius: 5px;\">\n",
    "    <h1 style=\"color: Darkred;\">Homework for Lesson 4 November 2024</h1>\n",
    "</div>\n"
   ]
  },
  {
   "cell_type": "markdown",
   "id": "4163e14e-0949-4435-8fe0-169c2d4d8f57",
   "metadata": {},
   "source": [
    "<div style=\"background-color: #e0f7e0; padding: 15px; border-radius: 5px;\">\n",
    "    <h3 style=\"color: Darkgreen;\">Series in Pandas</h3>\n",
    "</div>\n"
   ]
  },
  {
   "cell_type": "code",
   "execution_count": 3,
   "id": "8b7bdb58-dbae-427c-b1be-bafdf820f3e1",
   "metadata": {},
   "outputs": [],
   "source": [
    "import numpy as np\n",
    "import pandas as pd"
   ]
  },
  {
   "cell_type": "markdown",
   "id": "3ef85121-9fc2-40c2-a545-4423f0b5cadd",
   "metadata": {},
   "source": [
    "<div style=\"border: 2px solid Darkred; padding: 15px; background-color: #d3d3d3;\">\n",
    "    <h4 style=\"color: Darkblue;\">\n",
    "        <strong>\n",
    "            1. <br><br>Create a series of brain games by (according to numeric index):\n",
    "            <br>\n",
    "        </strong>\n",
    "    </h4>\n",
    "</div>\n"
   ]
  },
  {
   "cell_type": "markdown",
   "id": "9786f15c-8046-48c5-822d-c92e99e00631",
   "metadata": {},
   "source": [
    "<div style=\"border: 2px solid Darkred; padding: 15px; background-color: #f9f9f9;\">\n",
    "    <h4 style=\"color: Darkgreen;\">\n",
    "        <strong>\n",
    "            1a.\n",
    "        </strong>\n",
    "        <br><br> <!-- This adds an empty line between the two parts -->\n",
    "        Print the list:\n",
    "    </h4>\n",
    "</div>\n"
   ]
  },
  {
   "cell_type": "code",
   "execution_count": 5,
   "id": "e98f308a-6e7c-4645-8d2e-618b417a7eaf",
   "metadata": {},
   "outputs": [
    {
     "data": {
      "text/plain": [
       "0                          Planet Coaster 2\n",
       "1                Mario & Luigi: Brothership\n",
       "2                               Slitterhead\n",
       "3               The Rise of the Golden Idol\n",
       "4               Dragon Quest 3 HD-2D Remake\n",
       "5           Microsoft Flight Simulator 2024\n",
       "6             Stalker 2: Heart of Chornobyl\n",
       "7                   Fantasian Neo Dimension\n",
       "8                             Marvel Rivals\n",
       "9        Indiana Jones and the Great Circle\n",
       "10            Blood Line: A Rebel Moon Game\n",
       "11    The Legend of Zelda: Echoes of Wisdom\n",
       "dtype: object"
      ]
     },
     "execution_count": 5,
     "metadata": {},
     "output_type": "execute_result"
    }
   ],
   "source": [
    "games = [\n",
    "    \"Planet Coaster 2\", \"Mario & Luigi: Brothership\", \"Slitterhead\", \n",
    "    \"The Rise of the Golden Idol\", \"Dragon Quest 3 HD-2D Remake\", \n",
    "    \"Microsoft Flight Simulator 2024\", \"Stalker 2: Heart of Chornobyl\", \n",
    "    \"Fantasian Neo Dimension\", \"Marvel Rivals\", \n",
    "    \"Indiana Jones and the Great Circle\", \"Blood Line: A Rebel Moon Game\", \n",
    "    \"The Legend of Zelda: Echoes of Wisdom\"\n",
    "]\n",
    "games_series = pd.Series(games);\n",
    "games_series"
   ]
  },
  {
   "cell_type": "markdown",
   "id": "247e12a8-39b6-4ef0-8b90-138c727364d0",
   "metadata": {},
   "source": [
    "<div style=\"border: 2px solid Darkred; padding: 15px; background-color: #f9f9f9;\">\n",
    "    <h4 style=\"color: Darkgreen;\">\n",
    "        <strong>\n",
    "            1b.\n",
    "        </strong>\n",
    "        <br><br> <!-- This adds an empty line between the two parts -->\n",
    "        Print the game at index 3:\n",
    "    </h4>\n",
    "</div>\n"
   ]
  },
  {
   "cell_type": "code",
   "execution_count": 5,
   "id": "fe93ea7a-ef85-4703-918f-7f10ad7958f8",
   "metadata": {},
   "outputs": [
    {
     "name": "stdout",
     "output_type": "stream",
     "text": [
      "The Rise of the Golden Idol\n"
     ]
    }
   ],
   "source": [
    "print(games[3])  # אינדקס 3 הוא \"The Rise of the Golden Idol\"\n"
   ]
  },
  {
   "cell_type": "markdown",
   "id": "d22a8dd6-e8e5-4b5a-bc3b-4f31d515bcd7",
   "metadata": {},
   "source": [
    "<div style=\"border: 2px solid Darkred; padding: 15px; background-color: #f9f9f9;\">\n",
    "    <h4 style=\"color: Darkgreen;\">\n",
    "        <strong>\n",
    "            1c.\n",
    "        </strong>\n",
    "        <br><br> <!-- This adds an empty line between the two parts -->\n",
    "        Create a new list where the game name is the key and the price is the value:\n",
    "        <br><br>\n",
    "        <span style=\"font-size: 12px; color: black;\">\n",
    "            Here are the prices of the games, in order according to the game names listed above:\n",
    "            \n",
    "    [224.96, 187.46, 149.96, 131.21, 187.46, 262.46, 224.96, 168.71, 149.96, 206.21, 0.0, 262.46]\n",
    "\n",
    "</div>"
   ]
  },
  {
   "cell_type": "code",
   "execution_count": 7,
   "id": "159e735b-f44f-49b6-98cf-1076456cb132",
   "metadata": {},
   "outputs": [
    {
     "data": {
      "text/html": [
       "<div>\n",
       "<style scoped>\n",
       "    .dataframe tbody tr th:only-of-type {\n",
       "        vertical-align: middle;\n",
       "    }\n",
       "\n",
       "    .dataframe tbody tr th {\n",
       "        vertical-align: top;\n",
       "    }\n",
       "\n",
       "    .dataframe thead th {\n",
       "        text-align: right;\n",
       "    }\n",
       "</style>\n",
       "<table border=\"1\" class=\"dataframe\">\n",
       "  <thead>\n",
       "    <tr style=\"text-align: right;\">\n",
       "      <th></th>\n",
       "      <th>Game Title</th>\n",
       "      <th>Price</th>\n",
       "    </tr>\n",
       "  </thead>\n",
       "  <tbody>\n",
       "    <tr>\n",
       "      <th>0</th>\n",
       "      <td>Planet Coaster 2</td>\n",
       "      <td>224.96</td>\n",
       "    </tr>\n",
       "    <tr>\n",
       "      <th>1</th>\n",
       "      <td>Mario &amp; Luigi: Brothership</td>\n",
       "      <td>187.46</td>\n",
       "    </tr>\n",
       "    <tr>\n",
       "      <th>2</th>\n",
       "      <td>Slitterhead</td>\n",
       "      <td>149.96</td>\n",
       "    </tr>\n",
       "    <tr>\n",
       "      <th>3</th>\n",
       "      <td>The Rise of the Golden Idol</td>\n",
       "      <td>131.21</td>\n",
       "    </tr>\n",
       "    <tr>\n",
       "      <th>4</th>\n",
       "      <td>Dragon Quest 3 HD-2D Remake</td>\n",
       "      <td>187.46</td>\n",
       "    </tr>\n",
       "    <tr>\n",
       "      <th>5</th>\n",
       "      <td>Microsoft Flight Simulator 2024</td>\n",
       "      <td>262.46</td>\n",
       "    </tr>\n",
       "    <tr>\n",
       "      <th>6</th>\n",
       "      <td>Stalker 2: Heart of Chornobyl</td>\n",
       "      <td>224.96</td>\n",
       "    </tr>\n",
       "    <tr>\n",
       "      <th>7</th>\n",
       "      <td>Fantasian Neo Dimension</td>\n",
       "      <td>168.71</td>\n",
       "    </tr>\n",
       "    <tr>\n",
       "      <th>8</th>\n",
       "      <td>Marvel Rivals</td>\n",
       "      <td>149.96</td>\n",
       "    </tr>\n",
       "    <tr>\n",
       "      <th>9</th>\n",
       "      <td>Indiana Jones and the Great Circle</td>\n",
       "      <td>206.21</td>\n",
       "    </tr>\n",
       "    <tr>\n",
       "      <th>10</th>\n",
       "      <td>Blood Line: A Rebel Moon Game</td>\n",
       "      <td>0.00</td>\n",
       "    </tr>\n",
       "    <tr>\n",
       "      <th>11</th>\n",
       "      <td>The Legend of Zelda: Echoes of Wisdom</td>\n",
       "      <td>262.46</td>\n",
       "    </tr>\n",
       "  </tbody>\n",
       "</table>\n",
       "</div>"
      ],
      "text/plain": [
       "                               Game Title   Price\n",
       "0                        Planet Coaster 2  224.96\n",
       "1              Mario & Luigi: Brothership  187.46\n",
       "2                             Slitterhead  149.96\n",
       "3             The Rise of the Golden Idol  131.21\n",
       "4             Dragon Quest 3 HD-2D Remake  187.46\n",
       "5         Microsoft Flight Simulator 2024  262.46\n",
       "6           Stalker 2: Heart of Chornobyl  224.96\n",
       "7                 Fantasian Neo Dimension  168.71\n",
       "8                           Marvel Rivals  149.96\n",
       "9      Indiana Jones and the Great Circle  206.21\n",
       "10          Blood Line: A Rebel Moon Game    0.00\n",
       "11  The Legend of Zelda: Echoes of Wisdom  262.46"
      ]
     },
     "execution_count": 7,
     "metadata": {},
     "output_type": "execute_result"
    }
   ],
   "source": [
    "games = [\n",
    "    \"Planet Coaster 2\", \"Mario & Luigi: Brothership\", \"Slitterhead\", \n",
    "    \"The Rise of the Golden Idol\", \"Dragon Quest 3 HD-2D Remake\", \n",
    "    \"Microsoft Flight Simulator 2024\", \"Stalker 2: Heart of Chornobyl\", \n",
    "    \"Fantasian Neo Dimension\", \"Marvel Rivals\", \n",
    "    \"Indiana Jones and the Great Circle\", \"Blood Line: A Rebel Moon Game\", \n",
    "    \"The Legend of Zelda: Echoes of Wisdom\"\n",
    "]\n",
    "\n",
    "prices = [224.96, 187.46, 149.96, 131.21, 187.46, 262.46, 224.96, \n",
    "          168.71, 149.96, 206.21, 0.0, 262.46]\n",
    "\n",
    "# Create a DataFrame with 'Game Title' and 'Price' columns\n",
    "game_prices_df = pd.DataFrame({\n",
    "    'Game Title': games,\n",
    "    'Price': prices\n",
    "});\n",
    "game_prices_df"
   ]
  },
  {
   "cell_type": "markdown",
   "id": "1d2156c4-23e4-429f-9e6c-1cade6b3c767",
   "metadata": {},
   "source": [
    "<div style=\"border: 2px solid Darkred; padding: 15px; background-color: #f9f9f9;\">\n",
    "    <h4 style=\"color: Darkgreen;\">\n",
    "        <strong>\n",
    "            1d.\n",
    "        </strong>\n",
    "        <br><br> <!-- This adds an empty line between the two parts -->\n",
    "        Print the new list:\n",
    "        \n",
    "\n",
    "</div>"
   ]
  },
  {
   "cell_type": "code",
   "execution_count": 8,
   "id": "8cfc404e-7e71-4823-82a6-054e8a3428b7",
   "metadata": {},
   "outputs": [
    {
     "data": {
      "text/plain": [
       "Planet Coaster 2                         224.96\n",
       "Mario & Luigi: Brothership               187.46\n",
       "Slitterhead                              149.96\n",
       "The Rise of the Golden Idol              131.21\n",
       "Dragon Quest 3 HD-2D Remake              187.46\n",
       "Microsoft Flight Simulator 2024          262.46\n",
       "Stalker 2: Heart of Chornobyl            224.96\n",
       "Fantasian Neo Dimension                  168.71\n",
       "Marvel Rivals                            149.96\n",
       "Indiana Jones and the Great Circle       206.21\n",
       "Blood Line: A Rebel Moon Game              0.00\n",
       "The Legend of Zelda: Echoes of Wisdom    262.46\n",
       "dtype: float64"
      ]
     },
     "execution_count": 8,
     "metadata": {},
     "output_type": "execute_result"
    }
   ],
   "source": [
    "games = [\n",
    "    \"Planet Coaster 2\", \"Mario & Luigi: Brothership\", \"Slitterhead\", \n",
    "    \"The Rise of the Golden Idol\", \"Dragon Quest 3 HD-2D Remake\", \n",
    "    \"Microsoft Flight Simulator 2024\", \"Stalker 2: Heart of Chornobyl\", \n",
    "    \"Fantasian Neo Dimension\", \"Marvel Rivals\", \n",
    "    \"Indiana Jones and the Great Circle\", \"Blood Line: A Rebel Moon Game\", \n",
    "    \"The Legend of Zelda: Echoes of Wisdom\"\n",
    "]\n",
    "\n",
    "prices = [224.96, 187.46, 149.96, 131.21, 187.46, 262.46, 224.96, \n",
    "          168.71, 149.96, 206.21, 0.0, 262.46]\n",
    "\n",
    "game_prices = dict(zip(games, prices));\n",
    "game_prices_series = pd.Series(game_prices);\n",
    "game_prices_series"
   ]
  },
  {
   "cell_type": "markdown",
   "id": "01b4b5ec-29fa-4259-80ae-a6bce20990c0",
   "metadata": {},
   "source": [
    "<div style=\"border: 2px solid Darkred; padding: 15px; background-color: #f9f9f9;\">\n",
    "    <h4 style=\"color: Darkgreen;\">\n",
    "        <strong>\n",
    "            1e.\n",
    "        </strong>\n",
    "        <br><br> <!-- This adds an empty line between the two parts -->\n",
    "        Print the price of the game \"Marvel Rivals\":\n",
    "\n",
    "</div>"
   ]
  },
  {
   "cell_type": "code",
   "execution_count": 9,
   "id": "f7b2f61a-e850-46a9-b455-b27d67bc3311",
   "metadata": {},
   "outputs": [
    {
     "data": {
      "text/plain": [
       "149.96"
      ]
     },
     "execution_count": 9,
     "metadata": {},
     "output_type": "execute_result"
    }
   ],
   "source": [
    "games = [\n",
    "    \"Planet Coaster 2\", \"Mario & Luigi: Brothership\", \"Slitterhead\", \n",
    "    \"The Rise of the Golden Idol\", \"Dragon Quest 3 HD-2D Remake\", \n",
    "    \"Microsoft Flight Simulator 2024\", \"Stalker 2: Heart of Chornobyl\", \n",
    "    \"Fantasian Neo Dimension\", \"Marvel Rivals\", \n",
    "    \"Indiana Jones and the Great Circle\", \"Blood Line: A Rebel Moon Game\", \n",
    "    \"The Legend of Zelda: Echoes of Wisdom\"\n",
    "]\n",
    "\n",
    "prices = [224.96, 187.46, 149.96, 131.21, 187.46, 262.46, 224.96, \n",
    "          168.71, 149.96, 206.21, 0.0, 262.46]\n",
    "\n",
    "game_prices = dict(zip(games, prices));\n",
    "game_prices_series = pd.Series(game_prices);\n",
    "price_marvel_rivals = game_prices_series[\"Marvel Rivals\"]\n",
    "price_marvel_rivals\n"
   ]
  },
  {
   "cell_type": "markdown",
   "id": "5706241d-f6e0-4a61-8edf-24c4c81c6005",
   "metadata": {},
   "source": [
    "<div style=\"border: 2px solid Darkred; padding: 15px; background-color: #f9f9f9;\">\n",
    "    <h4 style=\"color: Darkgreen;\">\n",
    "        <strong>\n",
    "            1f.\n",
    "        </strong>\n",
    "        <br><br> <!-- This adds an empty line between the two parts -->\n",
    "        Print all the keys in the series (games):\n",
    "\n",
    "</div>"
   ]
  },
  {
   "cell_type": "code",
   "execution_count": 10,
   "id": "2ea08d71-edc4-4cb2-a2cf-3cc3e1af35fc",
   "metadata": {},
   "outputs": [
    {
     "name": "stdout",
     "output_type": "stream",
     "text": [
      "Index(['Planet Coaster 2', 'Mario & Luigi: Brothership', 'Slitterhead',\n",
      "       'The Rise of the Golden Idol', 'Dragon Quest 3 HD-2D Remake',\n",
      "       'Microsoft Flight Simulator 2024', 'Stalker 2: Heart of Chornobyl',\n",
      "       'Fantasian Neo Dimension', 'Marvel Rivals',\n",
      "       'Indiana Jones and the Great Circle', 'Blood Line: A Rebel Moon Game',\n",
      "       'The Legend of Zelda: Echoes of Wisdom'],\n",
      "      dtype='object')\n"
     ]
    }
   ],
   "source": [
    "games = [\n",
    "    \"Planet Coaster 2\", \"Mario & Luigi: Brothership\", \"Slitterhead\", \n",
    "    \"The Rise of the Golden Idol\", \"Dragon Quest 3 HD-2D Remake\", \n",
    "    \"Microsoft Flight Simulator 2024\", \"Stalker 2: Heart of Chornobyl\", \n",
    "    \"Fantasian Neo Dimension\", \"Marvel Rivals\", \n",
    "    \"Indiana Jones and the Great Circle\", \"Blood Line: A Rebel Moon Game\", \n",
    "    \"The Legend of Zelda: Echoes of Wisdom\"\n",
    "]\n",
    "\n",
    "prices = [224.96, 187.46, 149.96, 131.21, 187.46, 262.46, 224.96, \n",
    "          168.71, 149.96, 206.21, 0.0, 262.46]\n",
    "\n",
    "game_prices = dict(zip(games, prices));\n",
    "game_prices_series = pd.Series(game_prices);\n",
    "print(game_prices_series.index);"
   ]
  },
  {
   "cell_type": "markdown",
   "id": "da7b2968-3c32-4f57-8982-a31b10ed5df0",
   "metadata": {},
   "source": [
    "<div style=\"border: 2px solid Darkred; padding: 15px; background-color: #f9f9f9;\">\n",
    "    <h4 style=\"color: Darkgreen;\">\n",
    "        <strong>\n",
    "            1g.\n",
    "        </strong>\n",
    "        <br><br> <!-- This adds an empty line between the two parts -->\n",
    "        Print the data type of the series:\n",
    "\n",
    "</div>"
   ]
  },
  {
   "cell_type": "code",
   "execution_count": 24,
   "id": "172fb83b-07be-490a-af22-c692f2935bbc",
   "metadata": {},
   "outputs": [
    {
     "name": "stdout",
     "output_type": "stream",
     "text": [
      "<class 'pandas.core.series.Series'>\n",
      "float64\n"
     ]
    }
   ],
   "source": [
    "# Creating a pandas Series from the dictionary\n",
    "series = pd.Series(game_prices)\n",
    "\n",
    "print(type(series))  # This will print: <class 'pandas.core.series.Series'>\n",
    "print(series.dtype)  # This will print the dtype of the series\n"
   ]
  },
  {
   "cell_type": "markdown",
   "id": "8b225339-dce2-42b8-ab23-9fe71a1ac393",
   "metadata": {},
   "source": [
    "<div style=\"border: 2px solid Darkred; padding: 15px; background-color: #f9f9f9;\">\n",
    "    <h4 style=\"color: Darkgreen;\">\n",
    "        <strong>\n",
    "            1h.\n",
    "        </strong>\n",
    "        <br><br> <!-- This adds an empty line between the two parts -->\n",
    "        Create a dictionary with 3 games of your choice and their prices, then create a series from it:\n",
    "\n",
    "</div>"
   ]
  },
  {
   "cell_type": "code",
   "execution_count": 25,
   "id": "45feec65-4c2e-4c65-b2b6-d842f072f044",
   "metadata": {},
   "outputs": [
    {
     "name": "stdout",
     "output_type": "stream",
     "text": [
      "Cyberpunk 2077     59.99\n",
      "Hogwarts Legacy    49.99\n",
      "Elden Ring         59.99\n",
      "dtype: float64\n"
     ]
    }
   ],
   "source": [
    "# Choose 3 games and their prices\n",
    "selected_games = {\n",
    "    \"Cyberpunk 2077\": 59.99,\n",
    "    \"Hogwarts Legacy\": 49.99,\n",
    "    \"Elden Ring\": 59.99\n",
    "}\n",
    "\n",
    "# Create a series from the dictionary\n",
    "selected_series = pd.Series(selected_games);\n",
    "\n",
    "print(selected_series);\n"
   ]
  },
  {
   "cell_type": "markdown",
   "id": "f097e67c-81f1-422e-810b-7f98cd078d8c",
   "metadata": {},
   "source": [
    "<div style=\"border: 2px solid Darkred; padding: 15px; background-color: #f9f9f9;\">\n",
    "    <h4 style=\"color: Darkgreen;\">\n",
    "        <strong>\n",
    "            1i.\n",
    "        </strong>\n",
    "        <br><br> <!-- This adds an empty line between the two parts -->\n",
    "        Reset the index to be a default numerical index:\n",
    "\n",
    "</div>"
   ]
  },
  {
   "cell_type": "code",
   "execution_count": 26,
   "id": "42423d51-f5f4-4a4d-9003-4548e24ad96b",
   "metadata": {
    "collapsed": true,
    "jupyter": {
     "outputs_hidden": true
    }
   },
   "outputs": [
    {
     "name": "stdout",
     "output_type": "stream",
     "text": [
      "0    59.99\n",
      "1    49.99\n",
      "2    59.99\n",
      "dtype: float64\n"
     ]
    }
   ],
   "source": [
    "# Resetting the index to a default numerical index\n",
    "reset_series = selected_series.reset_index(drop=True)\n",
    "\n",
    "print(reset_series)"
   ]
  },
  {
   "cell_type": "markdown",
   "id": "dae6e9cf-34c5-4bac-a447-cfe245349a1c",
   "metadata": {},
   "source": [
    "<div style=\"border: 2px solid Darkred; padding: 15px; background-color: #d3d3d3;\">\n",
    "    <h4 style=\"color: Darkblue;\">\n",
    "        <strong>\n",
    "            2. <br><br>What is the difference between the + operator and the add() method in Pandas? \n",
    "            <br>\n",
    "        </strong>\n",
    "    </h4>\n",
    "</div>\n"
   ]
  },
  {
   "cell_type": "markdown",
   "id": "4c846fef-32be-4097-ad50-8ec12a2c1449",
   "metadata": {},
   "source": [
    "<div style=\"border: 2px solid Darkred; padding: 15px; background-color: #f9f9f9;\">\n",
    "    <h4 style=\"color: Darkgreen;\">\n",
    "        <strong>\n",
    "            Answer:\n",
    "        </strong>\n",
    "        <br><br>\n",
    "        <span style=\"font-size: 12px; color: black;\">\n",
    "        The + operator is used for element-wise addition between two pandas Series or DataFrames. When using the + operator, it will add the values of two Series or DataFrames based on their indices (labels). If an index is missing in either of the Series or DataFrames, the result will be NaN for that index.            \n",
    "    [224.96, 187.46, 149.96, 131.21, 187.46, 262.46, 224.96, 168.71, 149.96, 206.21, 0.0, 262.46]\n",
    "\n",
    "</div>"
   ]
  },
  {
   "cell_type": "markdown",
   "id": "cf25f89f-427c-46bb-af18-afb47a80c49f",
   "metadata": {},
   "source": [
    "<div style=\"border: 2px solid Darkred; padding: 15px; background-color: #f9f9f9;\">\n",
    "    <h4 style=\"color: Darkgreen;\">\n",
    "        <strong>\n",
    "            Example 1: [The operator +]\n",
    "\n",
    "</div>"
   ]
  },
  {
   "cell_type": "code",
   "execution_count": 30,
   "id": "c526293f-476d-471b-8e36-c3009e3e9f57",
   "metadata": {},
   "outputs": [
    {
     "name": "stdout",
     "output_type": "stream",
     "text": [
      "a    5\n",
      "b    7\n",
      "c    9\n",
      "dtype: int64\n"
     ]
    }
   ],
   "source": [
    "import pandas as pd\n",
    "\n",
    "# Create two Series\n",
    "series1 = pd.Series([1, 2, 3], index=['a', 'b', 'c'])\n",
    "series2 = pd.Series([4, 5, 6], index=['a', 'b', 'c'])\n",
    "\n",
    "# Use the + operator to add the two Series\n",
    "result = series1 + series2\n",
    "print(result)\n"
   ]
  },
  {
   "cell_type": "markdown",
   "id": "2210785e-1802-427b-ac7f-74e056d96152",
   "metadata": {},
   "source": [
    "<div style=\"border: 2px solid Darkred; padding: 15px; background-color: #f9f9f9;\">\n",
    "    <h4 style=\"color: Darkgreen;\">\n",
    "        <strong>\n",
    "            Example 2: [The add() Method]\n",
    "\n",
    "</div>"
   ]
  },
  {
   "cell_type": "code",
   "execution_count": 31,
   "id": "9a227569-4ae2-4075-87e3-98e575282831",
   "metadata": {},
   "outputs": [
    {
     "name": "stdout",
     "output_type": "stream",
     "text": [
      "a    5.0\n",
      "b    7.0\n",
      "c    3.0\n",
      "dtype: float64\n"
     ]
    }
   ],
   "source": [
    "# Create two Series with a missing index in series2\n",
    "series1 = pd.Series([1, 2, 3], index=['a', 'b', 'c']);\n",
    "series2 = pd.Series([4, 5], index=['a', 'b']);\n",
    "\n",
    "# Use the add() method to add the two Series with a fill_value\n",
    "result = series1.add(series2, fill_value=0);\n",
    "print(result);\n"
   ]
  },
  {
   "cell_type": "markdown",
   "id": "8a1ac8b2-8558-4799-ba0f-d64352ca0575",
   "metadata": {},
   "source": [
    "<div style=\"border: 2px solid Darkred; padding: 15px; background-color: #d3d3d3;\">\n",
    "    <h4 style=\"color: Darkblue;\">\n",
    "        <strong>\n",
    "            3. <br><br>Here is a list of games and their prices:\n",
    "            <br>\n",
    "        </strong>\n",
    "    </h4>\n",
    "</div>\n"
   ]
  },
  {
   "cell_type": "code",
   "execution_count": 33,
   "id": "d5ce3cb9-363e-47fe-b547-32b0dfca6ae0",
   "metadata": {},
   "outputs": [
    {
     "name": "stdout",
     "output_type": "stream",
     "text": [
      "{'Planet Coaster 2': 224.96, 'Mario & Luigi: Brothership': 187.46, 'Slitterhead': 149.96, 'Marvel Rivals': 149.96, 'The Legend of Zelda: Echoes of Wisdom': 262.46}\n"
     ]
    }
   ],
   "source": [
    "games = { \"Planet Coaster 2\": 224.96, \"Mario & Luigi: Brothership\": 187.46,\n",
    "\"Slitterhead\": 149.96, \"Marvel Rivals\": 149.96,\n",
    "\"The Legend of Zelda: Echoes of Wisdom\": 262.46 }\n",
    "print(games);"
   ]
  },
  {
   "cell_type": "markdown",
   "id": "e9cbf547-ed84-4c26-ac5d-953d72397f7f",
   "metadata": {},
   "source": [
    "<div style=\"border: 2px solid Darkred; padding: 15px; background-color: #f9f9f9;\">\n",
    "    <h4 style=\"color: Darkgreen;\">\n",
    "        <strong>\n",
    "            Converting the dictionary into a Pandas Series (***Extra***):\n",
    "\n",
    "</div>"
   ]
  },
  {
   "cell_type": "code",
   "execution_count": 34,
   "id": "201da776-4e65-4a45-b117-c456d43e1347",
   "metadata": {},
   "outputs": [
    {
     "name": "stdout",
     "output_type": "stream",
     "text": [
      "Planet Coaster 2                         224.96\n",
      "Mario & Luigi: Brothership               187.46\n",
      "Slitterhead                              149.96\n",
      "Marvel Rivals                            149.96\n",
      "The Legend of Zelda: Echoes of Wisdom    262.46\n",
      "dtype: float64\n"
     ]
    }
   ],
   "source": [
    "# Original dictionary of games and prices\n",
    "games = { \n",
    "    \"Planet Coaster 2\": 224.96, \n",
    "    \"Mario & Luigi: Brothership\": 187.46,\n",
    "    \"Slitterhead\": 149.96, \n",
    "    \"Marvel Rivals\": 149.96,\n",
    "    \"The Legend of Zelda: Echoes of Wisdom\": 262.46\n",
    "}\n",
    "\n",
    "# Convert the dictionary to a Pandas Series\n",
    "games_series = pd.Series(games)\n",
    "\n",
    "# Print the Pandas Series\n",
    "print(games_series)\n"
   ]
  },
  {
   "cell_type": "markdown",
   "id": "b276873a-be07-4efb-852b-fb35efffff36",
   "metadata": {},
   "source": [
    "<div style=\"border: 2px solid Darkred; padding: 15px; background-color: #f9f9f9;\">\n",
    "    <h4 style=\"color: Darkgreen;\">\n",
    "        <strong>\n",
    "            You received a list of discounts for the holiday:\n",
    "        </strong>\n",
    "        <br><br> <!-- This adds an empty line between the two parts -->\n",
    "        * The game \"Planet Coaster 2\" has a discount of 50 Shekels.<br>\n",
    "* The game \"Marvel Rivals\" has a discount of 80 Shekels.<br>\n",
    "* The game \"The Legend of Zelda: Echoes of Wisdom\" has a discount of 15 Shekels.\n",
    "\n",
    "</div>"
   ]
  },
  {
   "cell_type": "markdown",
   "id": "6cdbe629-39c5-4ee2-8b73-35aaeae75d7b",
   "metadata": {},
   "source": [
    "\n",
    "<div style=\"border: 2px solid Darkred; padding: 15px; background-color: #f9f9f9;\">\n",
    "    <h4 style=\"color: Black;\">\n",
    "        <strong>\n",
    "            Calculate the new prices by applying the discounts and output them as a series using the add operation:\n",
    "</div>"
   ]
  },
  {
   "cell_type": "code",
   "execution_count": 37,
   "id": "16126360-0a09-4e10-bd4c-46c3ae6c3c44",
   "metadata": {},
   "outputs": [
    {
     "name": "stdout",
     "output_type": "stream",
     "text": [
      "Planet Coaster 2                         174.96\n",
      "Mario & Luigi: Brothership               187.46\n",
      "Slitterhead                              149.96\n",
      "Marvel Rivals                             69.96\n",
      "The Legend of Zelda: Echoes of Wisdom    247.46\n",
      "dtype: float64\n"
     ]
    }
   ],
   "source": [
    "# Original prices\n",
    "prices = {\n",
    "    \"Planet Coaster 2\": 224.96,\n",
    "    \"Mario & Luigi: Brothership\": 187.46,\n",
    "    \"Slitterhead\": 149.96,\n",
    "    \"Marvel Rivals\": 149.96,\n",
    "    \"The Legend of Zelda: Echoes of Wisdom\": 262.46\n",
    "}\n",
    "\n",
    "# Create a pandas Series\n",
    "prices_series = pd.Series(prices);\n",
    "\n",
    "# Apply the discounts\n",
    "discounts = {\n",
    "    \"Planet Coaster 2\": 50,\n",
    "    \"Marvel Rivals\": 80,\n",
    "    \"The Legend of Zelda: Echoes of Wisdom\": 15\n",
    "}\n",
    "\n",
    "# Apply discounts\n",
    "new_prices = prices_series.copy();\n",
    "\n",
    "for game, discount in discounts.items():\n",
    "    new_prices[game] = prices_series[game] - discount\n",
    "\n",
    "# Print the new prices series\n",
    "print(new_prices);\n"
   ]
  }
 ],
 "metadata": {
  "kernelspec": {
   "display_name": "Python 3 (ipykernel)",
   "language": "python",
   "name": "python3"
  },
  "language_info": {
   "codemirror_mode": {
    "name": "ipython",
    "version": 3
   },
   "file_extension": ".py",
   "mimetype": "text/x-python",
   "name": "python",
   "nbconvert_exporter": "python",
   "pygments_lexer": "ipython3",
   "version": "3.12.7"
  }
 },
 "nbformat": 4,
 "nbformat_minor": 5
}
